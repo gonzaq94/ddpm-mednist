{
  "cells": [
    {
      "cell_type": "markdown",
      "metadata": {
        "id": "view-in-github",
        "colab_type": "text"
      },
      "source": [
        "<a href=\"https://colab.research.google.com/github/gonzaq94/ddpm-mednist/blob/main/1_monai_ddpm_with_mednist.ipynb\" target=\"_parent\"><img src=\"https://colab.research.google.com/assets/colab-badge.svg\" alt=\"Open In Colab\"/></a>"
      ]
    },
    {
      "cell_type": "markdown",
      "id": "e9d82774-2fa5-4349-9e75-6dd49a6c5169",
      "metadata": {
        "id": "e9d82774-2fa5-4349-9e75-6dd49a6c5169"
      },
      "source": [
        "# Denoising Diffusion Probabilistic Models (DDPM) with MedNIST dataset"
      ]
    },
    {
      "cell_type": "code",
      "source": [
        "from google.colab import drive\n",
        "drive.mount('/content/drive')"
      ],
      "metadata": {
        "id": "JEyH2yBhqhjo",
        "outputId": "d40dd5e8-2313-4af1-f1d1-cfaa8914aafc",
        "colab": {
          "base_uri": "https://localhost:8080/"
        }
      },
      "id": "JEyH2yBhqhjo",
      "execution_count": null,
      "outputs": [
        {
          "output_type": "stream",
          "name": "stdout",
          "text": [
            "Drive already mounted at /content/drive; to attempt to forcibly remount, call drive.mount(\"/content/drive\", force_remount=True).\n"
          ]
        }
      ]
    },
    {
      "cell_type": "code",
      "execution_count": null,
      "id": "253b18d8-e5aa-4d84-ba44-c783bc4edd14",
      "metadata": {
        "id": "253b18d8-e5aa-4d84-ba44-c783bc4edd14"
      },
      "outputs": [],
      "source": [
        "!pip install -q matplotlib monai monailabel monai-generative\n",
        "%matplotlib inline"
      ]
    },
    {
      "cell_type": "markdown",
      "id": "60f8bd5b-8884-488e-9bea-945dc5fc5990",
      "metadata": {
        "id": "60f8bd5b-8884-488e-9bea-945dc5fc5990"
      },
      "source": [
        "First impor the necessary packages, and you can verify the installation by:"
      ]
    },
    {
      "cell_type": "code",
      "execution_count": null,
      "id": "18276971-9548-4f09-a122-3053e0a56830",
      "metadata": {
        "colab": {
          "base_uri": "https://localhost:8080/"
        },
        "id": "18276971-9548-4f09-a122-3053e0a56830",
        "outputId": "c56868a8-a6ad-4e57-955c-a43ed3ffab29"
      },
      "outputs": [
        {
          "output_type": "stream",
          "name": "stdout",
          "text": [
            "MONAI version: 1.3.2\n",
            "Numpy version: 1.26.4\n",
            "Pytorch version: 2.3.1+cu121\n",
            "MONAI flags: HAS_EXT = False, USE_COMPILED = False, USE_META_DICT = False\n",
            "MONAI rev id: 59a7211070538586369afd4a01eca0a7fe2e742e\n",
            "MONAI __file__: /usr/local/lib/python3.10/dist-packages/monai/__init__.py\n",
            "\n",
            "Optional dependencies:\n",
            "Pytorch Ignite version: 0.4.11\n",
            "ITK version: 5.4.0\n",
            "Nibabel version: 5.0.1\n",
            "scikit-image version: 0.23.2\n",
            "scipy version: 1.13.1\n",
            "Pillow version: 9.4.0\n",
            "Tensorboard version: 2.17.0\n",
            "gdown version: 4.7.3\n",
            "TorchVision version: 0.18.1+cu121\n",
            "tqdm version: 4.66.5\n",
            "lmdb version: 1.5.1\n",
            "psutil version: 5.9.5\n",
            "pandas version: 2.1.4\n",
            "einops version: 0.7.0\n",
            "transformers version: 4.42.4\n",
            "mlflow version: 2.15.1\n",
            "pynrrd version: 1.0.0\n",
            "clearml version: NOT INSTALLED or UNKNOWN VERSION.\n",
            "\n",
            "For details about installing the optional dependencies, please visit:\n",
            "    https://docs.monai.io/en/latest/installation.html#installing-the-recommended-dependencies\n",
            "\n"
          ]
        }
      ],
      "source": [
        "import os\n",
        "import shutil\n",
        "import tempfile\n",
        "import time\n",
        "\n",
        "import matplotlib.pyplot as plt\n",
        "import numpy as np\n",
        "import torch\n",
        "import torch.nn.functional as F\n",
        "import monai\n",
        "from monai import transforms\n",
        "from monai.apps import MedNISTDataset\n",
        "from monai.config import print_config\n",
        "from monai.data import CacheDataset, DataLoader\n",
        "from monai.utils import first, set_determinism\n",
        "from torch.cuda.amp import GradScaler, autocast\n",
        "from tqdm import tqdm\n",
        "\n",
        "from generative.inferers import DiffusionInferer\n",
        "from generative.networks.nets import DiffusionModelUNet\n",
        "from generative.networks.schedulers import DDPMScheduler\n",
        "\n",
        "set_determinism(42)\n",
        "\n",
        "monai.config.print_config()"
      ]
    },
    {
      "cell_type": "markdown",
      "id": "fdb059ac-bf02-4d25-af1b-4c78313ff9ab",
      "metadata": {
        "id": "fdb059ac-bf02-4d25-af1b-4c78313ff9ab"
      },
      "source": [
        "## Set up the MedNIST Dataset\n",
        "\n",
        "In this tutorial, we will train our models on the MedNIST dataset available on MONAI (https://docs.monai.io/en/stable/apps.html#monai.apps.MedNISTDataset).\n",
        "\n",
        "In order to train faster, we will select just one of the available classes (\"Hand\"), resulting in a training set with 7999 2D images.\n",
        "\n",
        "You can specify a directory with the MONAI_DATA_DIRECTORY environment variable. For the convenience, we use the `data` folder in the current path:"
      ]
    },
    {
      "cell_type": "code",
      "execution_count": null,
      "id": "f173de8c-4255-442a-85cb-c46dbd114081",
      "metadata": {
        "colab": {
          "base_uri": "https://localhost:8080/"
        },
        "id": "f173de8c-4255-442a-85cb-c46dbd114081",
        "outputId": "349cc73d-31c7-4d62-91c5-ad753457aa2b"
      },
      "outputs": [
        {
          "output_type": "stream",
          "name": "stdout",
          "text": [
            "2024-08-17 15:47:58,790 - INFO - Verified 'MedNIST.tar.gz', md5: 0bc7306e7427e00ad1c5526a6677552d.\n",
            "2024-08-17 15:47:58,791 - INFO - File exists: data/MedNIST.tar.gz, skipped downloading.\n",
            "2024-08-17 15:47:58,802 - INFO - Non-empty folder exists in data/MedNIST, skipped extracting.\n"
          ]
        }
      ],
      "source": [
        "root_dir = './'\n",
        "data_dir = './data/'\n",
        "os.makedirs(data_dir, exist_ok=True)\n",
        "\n",
        "train_data = MedNISTDataset(root_dir=data_dir,\n",
        "                            section=\"training\",\n",
        "                            download=True,\n",
        "                            progress=False,\n",
        "                            seed=0)\n",
        "train_datalist = [{\"image\": item[\"image\"]} for item in train_data.data if item[\"class_name\"] == \"Hand\"]"
      ]
    },
    {
      "cell_type": "markdown",
      "id": "7224caae-3d4c-4161-907f-ad4119226233",
      "metadata": {
        "id": "7224caae-3d4c-4161-907f-ad4119226233"
      },
      "source": [
        "Here we use transforms to augment the training dataset:\n",
        "\n",
        "- `LoadImaged` loads the hands images from files.\n",
        "- `EnsureChannelFirstd` ensures the original data to construct \"channel first\" shape.\n",
        "- `ScaleIntensityRanged` extracts intensity range [0, 255] and scales to [0, 1].\n",
        "- `RandAffined` efficiently performs rotate, scale, shear, translate, etc. together based on PyTorch affine transform."
      ]
    },
    {
      "cell_type": "code",
      "execution_count": null,
      "id": "97d677ec-f294-4250-9c7e-fb069e74c38f",
      "metadata": {
        "colab": {
          "base_uri": "https://localhost:8080/"
        },
        "id": "97d677ec-f294-4250-9c7e-fb069e74c38f",
        "outputId": "476e702d-2bd1-4a4d-ca30-e0b34e3ae94a"
      },
      "outputs": [
        {
          "output_type": "stream",
          "name": "stderr",
          "text": [
            "Loading dataset: 100%|██████████| 7999/7999 [00:18<00:00, 435.68it/s]\n"
          ]
        }
      ],
      "source": [
        "train_transforms = transforms.Compose(\n",
        "    [\n",
        "        transforms.LoadImaged(keys=[\"image\"]),\n",
        "        transforms.EnsureChannelFirstd(keys=[\"image\"]),\n",
        "        transforms.ScaleIntensityRanged(keys=[\"image\"],\n",
        "                                        a_min=0.0,\n",
        "                                        a_max=255.0,\n",
        "                                        b_min=0.0,\n",
        "                                        b_max=1.0,\n",
        "                                        clip=True),\n",
        "        transforms.RandAffined(\n",
        "            keys=[\"image\"],\n",
        "            rotate_range=[(-np.pi / 36, np.pi / 36), (-np.pi / 36, np.pi / 36)],\n",
        "            translate_range=[(-1, 1), (-1, 1)],\n",
        "            scale_range=[(-0.05, 0.05), (-0.05, 0.05)],\n",
        "            spatial_size=[64, 64],\n",
        "            padding_mode=\"zeros\",\n",
        "            prob=0.5,\n",
        "        ),\n",
        "    ]\n",
        ")\n",
        "train_ds = CacheDataset(data=train_datalist, transform=train_transforms)\n",
        "train_loader = DataLoader(train_ds, batch_size=16, shuffle=True, num_workers=2, persistent_workers=True)"
      ]
    },
    {
      "cell_type": "markdown",
      "id": "6e5f0865-f4b8-42f6-9b45-17253e304a68",
      "metadata": {
        "id": "6e5f0865-f4b8-42f6-9b45-17253e304a68"
      },
      "source": [
        "We can get the validation data the same way:"
      ]
    },
    {
      "cell_type": "code",
      "execution_count": null,
      "id": "98b2c37a-4c8f-4ea5-920b-8cf32ba9fba9",
      "metadata": {
        "colab": {
          "base_uri": "https://localhost:8080/"
        },
        "id": "98b2c37a-4c8f-4ea5-920b-8cf32ba9fba9",
        "outputId": "0c9631fb-72c8-44f3-d891-536c807e1874"
      },
      "outputs": [
        {
          "output_type": "stream",
          "name": "stdout",
          "text": [
            "2024-08-17 15:49:02,242 - INFO - Verified 'MedNIST.tar.gz', md5: 0bc7306e7427e00ad1c5526a6677552d.\n",
            "2024-08-17 15:49:02,254 - INFO - File exists: data/MedNIST.tar.gz, skipped downloading.\n",
            "2024-08-17 15:49:02,261 - INFO - Non-empty folder exists in data/MedNIST, skipped extracting.\n"
          ]
        },
        {
          "output_type": "stream",
          "name": "stderr",
          "text": [
            "Loading dataset: 100%|██████████| 1005/1005 [00:02<00:00, 433.05it/s]\n"
          ]
        }
      ],
      "source": [
        "val_data = MedNISTDataset(root_dir=data_dir,\n",
        "                          section=\"validation\",\n",
        "                          download=True,\n",
        "                          progress=False,\n",
        "                          seed=0)\n",
        "val_datalist = [{\"image\": item[\"image\"]} for item in val_data.data if item[\"class_name\"] == \"Hand\"]\n",
        "val_transforms = transforms.Compose(\n",
        "    [\n",
        "        transforms.LoadImaged(keys=[\"image\"]),\n",
        "        transforms.EnsureChannelFirstd(keys=[\"image\"]),\n",
        "        transforms.ScaleIntensityRanged(keys=[\"image\"],\n",
        "                                        a_min=0.0,\n",
        "                                        a_max=255.0,\n",
        "                                        b_min=0.0,\n",
        "                                        b_max=1.0,\n",
        "                                        clip=True),\n",
        "    ]\n",
        ")\n",
        "val_ds = CacheDataset(data=val_datalist, transform=val_transforms)\n",
        "val_loader = DataLoader(val_ds, batch_size=16, shuffle=False, num_workers=2, persistent_workers=True)"
      ]
    },
    {
      "cell_type": "markdown",
      "id": "6b24970a-6c8f-4177-a02a-053447fb9b70",
      "metadata": {
        "id": "6b24970a-6c8f-4177-a02a-053447fb9b70"
      },
      "source": [
        "### Visualisation of the training images\n",
        "\n",
        "Let see what the training images look like:"
      ]
    },
    {
      "cell_type": "code",
      "execution_count": null,
      "id": "7684b200-bf11-4d8d-93c7-aa56b4350167",
      "metadata": {
        "colab": {
          "base_uri": "https://localhost:8080/",
          "height": 346
        },
        "id": "7684b200-bf11-4d8d-93c7-aa56b4350167",
        "outputId": "82956b65-86eb-4857-d1c4-ffd040ee17c1"
      },
      "outputs": [
        {
          "output_type": "stream",
          "name": "stdout",
          "text": [
            "batch shape: torch.Size([16, 1, 64, 64])\n"
          ]
        },
        {
          "output_type": "display_data",
          "data": {
            "text/plain": [
              "<Figure size 1200x600 with 1 Axes>"
            ],
            "image/png": "[encoded data removed]"
          },
          "metadata": {}
        }
      ],
      "source": [
        "check_data = first(train_loader)\n",
        "print(f\"batch shape: {check_data['image'].shape}\")\n",
        "image_visualisation = torch.cat(\n",
        "    [check_data[\"image\"][0, 0],\n",
        "     check_data[\"image\"][1, 0],\n",
        "     check_data[\"image\"][2, 0],\n",
        "     check_data[\"image\"][3, 0]], dim=1\n",
        ")\n",
        "plt.figure(\"training images\", (12, 6))\n",
        "plt.imshow(image_visualisation, vmin=0, vmax=1, cmap=\"gray\")\n",
        "plt.axis(\"off\")\n",
        "plt.tight_layout()\n",
        "plt.show()"
      ]
    },
    {
      "cell_type": "markdown",
      "id": "20eb75e2-78e6-4117-afbc-2d670524e21b",
      "metadata": {
        "id": "20eb75e2-78e6-4117-afbc-2d670524e21b"
      },
      "source": [
        "## Define network, scheduler, optimizer, and inferer\n",
        "\n",
        "At this step, we instantiate the MONAI components to create a *DDPM*, the *UNET*, the *noise scheduler*, and the *inferer* used for training and sampling.\n",
        "\n",
        "We are using the original DDPM scheduler containing `1000` timesteps in its Markov chain, and a 2D UNET with attention mechanisms in the 2nd and 3rd levels, each with 1 attention head.\n"
      ]
    },
    {
      "cell_type": "code",
      "execution_count": null,
      "id": "2deffe22-da47-44d1-bd18-beb23a8b6dea",
      "metadata": {
        "id": "2deffe22-da47-44d1-bd18-beb23a8b6dea",
        "outputId": "aebd3509-c895-4f7c-c5ad-569656372901",
        "colab": {
          "base_uri": "https://localhost:8080/",
          "height": 356
        }
      },
      "outputs": [
        {
          "output_type": "error",
          "ename": "RuntimeError",
          "evalue": "Found no NVIDIA driver on your system. Please check that you have an NVIDIA GPU and installed a driver from http://www.nvidia.com/Download/index.aspx",
          "traceback": [
            "\u001b[0;31m---------------------------------------------------------------------------\u001b[0m",
            "\u001b[0;31mRuntimeError\u001b[0m                              Traceback (most recent call last)",
            "\u001b[0;32m<ipython-input-16-1a835dd80268>\u001b[0m in \u001b[0;36m<cell line: 12>\u001b[0;34m()\u001b[0m\n\u001b[1;32m     10\u001b[0m     \u001b[0mnum_head_channels\u001b[0m\u001b[0;34m=\u001b[0m\u001b[0;36m256\u001b[0m\u001b[0;34m,\u001b[0m\u001b[0;34m\u001b[0m\u001b[0;34m\u001b[0m\u001b[0m\n\u001b[1;32m     11\u001b[0m )\n\u001b[0;32m---> 12\u001b[0;31m \u001b[0mmodel\u001b[0m\u001b[0;34m.\u001b[0m\u001b[0mto\u001b[0m\u001b[0;34m(\u001b[0m\u001b[0mdevice\u001b[0m\u001b[0;34m)\u001b[0m\u001b[0;34m\u001b[0m\u001b[0;34m\u001b[0m\u001b[0m\n\u001b[0m\u001b[1;32m     13\u001b[0m \u001b[0;34m\u001b[0m\u001b[0m\n\u001b[1;32m     14\u001b[0m scheduler = DDPMScheduler(\n",
            "\u001b[0;32m/usr/local/lib/python3.10/dist-packages/torch/nn/modules/module.py\u001b[0m in \u001b[0;36mto\u001b[0;34m(self, *args, **kwargs)\u001b[0m\n\u001b[1;32m   1171\u001b[0m                     \u001b[0;32mraise\u001b[0m\u001b[0;34m\u001b[0m\u001b[0;34m\u001b[0m\u001b[0m\n\u001b[1;32m   1172\u001b[0m \u001b[0;34m\u001b[0m\u001b[0m\n\u001b[0;32m-> 1173\u001b[0;31m         \u001b[0;32mreturn\u001b[0m \u001b[0mself\u001b[0m\u001b[0;34m.\u001b[0m\u001b[0m_apply\u001b[0m\u001b[0;34m(\u001b[0m\u001b[0mconvert\u001b[0m\u001b[0;34m)\u001b[0m\u001b[0;34m\u001b[0m\u001b[0;34m\u001b[0m\u001b[0m\n\u001b[0m\u001b[1;32m   1174\u001b[0m \u001b[0;34m\u001b[0m\u001b[0m\n\u001b[1;32m   1175\u001b[0m     def register_full_backward_pre_hook(\n",
            "\u001b[0;32m/usr/local/lib/python3.10/dist-packages/torch/nn/modules/module.py\u001b[0m in \u001b[0;36m_apply\u001b[0;34m(self, fn, recurse)\u001b[0m\n\u001b[1;32m    777\u001b[0m         \u001b[0;32mif\u001b[0m \u001b[0mrecurse\u001b[0m\u001b[0;34m:\u001b[0m\u001b[0;34m\u001b[0m\u001b[0;34m\u001b[0m\u001b[0m\n\u001b[1;32m    778\u001b[0m             \u001b[0;32mfor\u001b[0m \u001b[0mmodule\u001b[0m \u001b[0;32min\u001b[0m \u001b[0mself\u001b[0m\u001b[0;34m.\u001b[0m\u001b[0mchildren\u001b[0m\u001b[0;34m(\u001b[0m\u001b[0;34m)\u001b[0m\u001b[0;34m:\u001b[0m\u001b[0;34m\u001b[0m\u001b[0;34m\u001b[0m\u001b[0m\n\u001b[0;32m--> 779\u001b[0;31m                 \u001b[0mmodule\u001b[0m\u001b[0;34m.\u001b[0m\u001b[0m_apply\u001b[0m\u001b[0;34m(\u001b[0m\u001b[0mfn\u001b[0m\u001b[0;34m)\u001b[0m\u001b[0;34m\u001b[0m\u001b[0;34m\u001b[0m\u001b[0m\n\u001b[0m\u001b[1;32m    780\u001b[0m \u001b[0;34m\u001b[0m\u001b[0m\n\u001b[1;32m    781\u001b[0m         \u001b[0;32mdef\u001b[0m \u001b[0mcompute_should_use_set_data\u001b[0m\u001b[0;34m(\u001b[0m\u001b[0mtensor\u001b[0m\u001b[0;34m,\u001b[0m \u001b[0mtensor_applied\u001b[0m\u001b[0;34m)\u001b[0m\u001b[0;34m:\u001b[0m\u001b[0;34m\u001b[0m\u001b[0;34m\u001b[0m\u001b[0m\n",
            "\u001b[0;32m/usr/local/lib/python3.10/dist-packages/torch/nn/modules/module.py\u001b[0m in \u001b[0;36m_apply\u001b[0;34m(self, fn, recurse)\u001b[0m\n\u001b[1;32m    777\u001b[0m         \u001b[0;32mif\u001b[0m \u001b[0mrecurse\u001b[0m\u001b[0;34m:\u001b[0m\u001b[0;34m\u001b[0m\u001b[0;34m\u001b[0m\u001b[0m\n\u001b[1;32m    778\u001b[0m             \u001b[0;32mfor\u001b[0m \u001b[0mmodule\u001b[0m \u001b[0;32min\u001b[0m \u001b[0mself\u001b[0m\u001b[0;34m.\u001b[0m\u001b[0mchildren\u001b[0m\u001b[0;34m(\u001b[0m\u001b[0;34m)\u001b[0m\u001b[0;34m:\u001b[0m\u001b[0;34m\u001b[0m\u001b[0;34m\u001b[0m\u001b[0m\n\u001b[0;32m--> 779\u001b[0;31m                 \u001b[0mmodule\u001b[0m\u001b[0;34m.\u001b[0m\u001b[0m_apply\u001b[0m\u001b[0;34m(\u001b[0m\u001b[0mfn\u001b[0m\u001b[0;34m)\u001b[0m\u001b[0;34m\u001b[0m\u001b[0;34m\u001b[0m\u001b[0m\n\u001b[0m\u001b[1;32m    780\u001b[0m \u001b[0;34m\u001b[0m\u001b[0m\n\u001b[1;32m    781\u001b[0m         \u001b[0;32mdef\u001b[0m \u001b[0mcompute_should_use_set_data\u001b[0m\u001b[0;34m(\u001b[0m\u001b[0mtensor\u001b[0m\u001b[0;34m,\u001b[0m \u001b[0mtensor_applied\u001b[0m\u001b[0;34m)\u001b[0m\u001b[0;34m:\u001b[0m\u001b[0;34m\u001b[0m\u001b[0;34m\u001b[0m\u001b[0m\n",
            "\u001b[0;32m/usr/local/lib/python3.10/dist-packages/torch/nn/modules/module.py\u001b[0m in \u001b[0;36m_apply\u001b[0;34m(self, fn, recurse)\u001b[0m\n\u001b[1;32m    802\u001b[0m             \u001b[0;31m# `with torch.no_grad():`\u001b[0m\u001b[0;34m\u001b[0m\u001b[0;34m\u001b[0m\u001b[0m\n\u001b[1;32m    803\u001b[0m             \u001b[0;32mwith\u001b[0m \u001b[0mtorch\u001b[0m\u001b[0;34m.\u001b[0m\u001b[0mno_grad\u001b[0m\u001b[0;34m(\u001b[0m\u001b[0;34m)\u001b[0m\u001b[0;34m:\u001b[0m\u001b[0;34m\u001b[0m\u001b[0;34m\u001b[0m\u001b[0m\n\u001b[0;32m--> 804\u001b[0;31m                 \u001b[0mparam_applied\u001b[0m \u001b[0;34m=\u001b[0m \u001b[0mfn\u001b[0m\u001b[0;34m(\u001b[0m\u001b[0mparam\u001b[0m\u001b[0;34m)\u001b[0m\u001b[0;34m\u001b[0m\u001b[0;34m\u001b[0m\u001b[0m\n\u001b[0m\u001b[1;32m    805\u001b[0m             \u001b[0mp_should_use_set_data\u001b[0m \u001b[0;34m=\u001b[0m \u001b[0mcompute_should_use_set_data\u001b[0m\u001b[0;34m(\u001b[0m\u001b[0mparam\u001b[0m\u001b[0;34m,\u001b[0m \u001b[0mparam_applied\u001b[0m\u001b[0;34m)\u001b[0m\u001b[0;34m\u001b[0m\u001b[0;34m\u001b[0m\u001b[0m\n\u001b[1;32m    806\u001b[0m \u001b[0;34m\u001b[0m\u001b[0m\n",
            "\u001b[0;32m/usr/local/lib/python3.10/dist-packages/torch/nn/modules/module.py\u001b[0m in \u001b[0;36mconvert\u001b[0;34m(t)\u001b[0m\n\u001b[1;32m   1157\u001b[0m                         \u001b[0mmemory_format\u001b[0m\u001b[0;34m=\u001b[0m\u001b[0mconvert_to_format\u001b[0m\u001b[0;34m,\u001b[0m\u001b[0;34m\u001b[0m\u001b[0;34m\u001b[0m\u001b[0m\n\u001b[1;32m   1158\u001b[0m                     )\n\u001b[0;32m-> 1159\u001b[0;31m                 return t.to(\n\u001b[0m\u001b[1;32m   1160\u001b[0m                     \u001b[0mdevice\u001b[0m\u001b[0;34m,\u001b[0m\u001b[0;34m\u001b[0m\u001b[0;34m\u001b[0m\u001b[0m\n\u001b[1;32m   1161\u001b[0m                     \u001b[0mdtype\u001b[0m \u001b[0;32mif\u001b[0m \u001b[0mt\u001b[0m\u001b[0;34m.\u001b[0m\u001b[0mis_floating_point\u001b[0m\u001b[0;34m(\u001b[0m\u001b[0;34m)\u001b[0m \u001b[0;32mor\u001b[0m \u001b[0mt\u001b[0m\u001b[0;34m.\u001b[0m\u001b[0mis_complex\u001b[0m\u001b[0;34m(\u001b[0m\u001b[0;34m)\u001b[0m \u001b[0;32melse\u001b[0m \u001b[0;32mNone\u001b[0m\u001b[0;34m,\u001b[0m\u001b[0;34m\u001b[0m\u001b[0;34m\u001b[0m\u001b[0m\n",
            "\u001b[0;32m/usr/local/lib/python3.10/dist-packages/torch/cuda/__init__.py\u001b[0m in \u001b[0;36m_lazy_init\u001b[0;34m()\u001b[0m\n\u001b[1;32m    291\u001b[0m         \u001b[0;32mif\u001b[0m \u001b[0;34m\"CUDA_MODULE_LOADING\"\u001b[0m \u001b[0;32mnot\u001b[0m \u001b[0;32min\u001b[0m \u001b[0mos\u001b[0m\u001b[0;34m.\u001b[0m\u001b[0menviron\u001b[0m\u001b[0;34m:\u001b[0m\u001b[0;34m\u001b[0m\u001b[0;34m\u001b[0m\u001b[0m\n\u001b[1;32m    292\u001b[0m             \u001b[0mos\u001b[0m\u001b[0;34m.\u001b[0m\u001b[0menviron\u001b[0m\u001b[0;34m[\u001b[0m\u001b[0;34m\"CUDA_MODULE_LOADING\"\u001b[0m\u001b[0;34m]\u001b[0m \u001b[0;34m=\u001b[0m \u001b[0;34m\"LAZY\"\u001b[0m\u001b[0;34m\u001b[0m\u001b[0;34m\u001b[0m\u001b[0m\n\u001b[0;32m--> 293\u001b[0;31m         \u001b[0mtorch\u001b[0m\u001b[0;34m.\u001b[0m\u001b[0m_C\u001b[0m\u001b[0;34m.\u001b[0m\u001b[0m_cuda_init\u001b[0m\u001b[0;34m(\u001b[0m\u001b[0;34m)\u001b[0m\u001b[0;34m\u001b[0m\u001b[0;34m\u001b[0m\u001b[0m\n\u001b[0m\u001b[1;32m    294\u001b[0m         \u001b[0;31m# Some of the queued calls may reentrantly call _lazy_init();\u001b[0m\u001b[0;34m\u001b[0m\u001b[0;34m\u001b[0m\u001b[0m\n\u001b[1;32m    295\u001b[0m         \u001b[0;31m# we need to just return without initializing in that case.\u001b[0m\u001b[0;34m\u001b[0m\u001b[0;34m\u001b[0m\u001b[0m\n",
            "\u001b[0;31mRuntimeError\u001b[0m: Found no NVIDIA driver on your system. Please check that you have an NVIDIA GPU and installed a driver from http://www.nvidia.com/Download/index.aspx"
          ]
        }
      ],
      "source": [
        "device = torch.device(\"cuda\")\n",
        "\n",
        "model = DiffusionModelUNet(\n",
        "    spatial_dims=2,\n",
        "    in_channels=1,\n",
        "    out_channels=1,\n",
        "    num_channels=(128, 256, 256),\n",
        "    attention_levels=(False, True, True),\n",
        "    num_res_blocks=1,\n",
        "    num_head_channels=256,\n",
        ")\n",
        "model.to(device)\n",
        "\n",
        "scheduler = DDPMScheduler(\n",
        "    num_train_timesteps=1000,\n",
        "    schedule=\"linear_beta\",\n",
        "    beta_start=0.0005,\n",
        "    beta_end=0.0195)\n",
        "\n",
        "optimizer = torch.optim.Adam(params=model.parameters(), lr=2.5e-5)\n",
        "\n",
        "inferer = DiffusionInferer(scheduler)"
      ]
    },
    {
      "cell_type": "markdown",
      "id": "cca62fc2-a8ac-4ca3-828e-b02089a09ff0",
      "metadata": {
        "id": "cca62fc2-a8ac-4ca3-828e-b02089a09ff0"
      },
      "source": [
        "## Model training\n",
        "\n",
        "Here, we are training our model for 75 epochs (training time: ~50 minutes).\n",
        "\n",
        "For tutorial, if you would like to skip the training and use a pre-trained model instead, set use_pretrained=True. This model was pretrained using the model in `pretrained/DDPM.pt`."
      ]
    },
    {
      "cell_type": "code",
      "execution_count": null,
      "id": "60971d87-bdaa-4418-bd19-ff0e143ac87e",
      "metadata": {
        "id": "60971d87-bdaa-4418-bd19-ff0e143ac87e"
      },
      "outputs": [],
      "source": [
        "use_pretrained = False\n",
        "\n",
        "if use_pretrained:\n",
        "    os.makedirs('./pretrained/', exist_ok=True)\n",
        "    import urllib.request\n",
        "    url = 'https://raw.githubusercontent.com/vios-s/ISBI-2024-DiMEDIA-MONAI-Tutorial/main/pretrained/DDPM.pt'\n",
        "    print (\"Download start!\")\n",
        "    filename, headers = urllib.request.urlretrieve(url, filename=\"./pretrained/DDPM.pt\")\n",
        "    print(\"Download Complete.\")\n",
        "    model.load_state_dict(torch.load('pretrained/DDPM.pt'))\n",
        "    #model = torch.hub.load(\"marksgraham/pretrained_generative_models:v0.2\", model=\"ddpm_2d\", verbose=True).to(device)\n",
        "else:\n",
        "    n_epochs = 75\n",
        "    val_interval = 5\n",
        "    epoch_loss_list = []\n",
        "    val_epoch_loss_list = []\n",
        "\n",
        "    scaler = GradScaler()\n",
        "    total_start = time.time()\n",
        "    for epoch in range(n_epochs):\n",
        "        model.train()\n",
        "        epoch_loss = 0\n",
        "        progress_bar = tqdm(enumerate(train_loader), total=len(train_loader), ncols=70)\n",
        "        progress_bar.set_description(f\"Epoch {epoch}\")\n",
        "        for step, batch in progress_bar:\n",
        "            images = batch[\"image\"].to(device)\n",
        "            optimizer.zero_grad(set_to_none=True)\n",
        "\n",
        "            with autocast(enabled=True):\n",
        "                # Generate random noise\n",
        "                noise = torch.randn_like(images).to(device)\n",
        "\n",
        "                # Create timesteps\n",
        "                timesteps = torch.randint(\n",
        "                    0,\n",
        "                    inferer.scheduler.num_train_timesteps,\n",
        "                    (images.shape[0],),\n",
        "                    device=images.device\n",
        "                ).long()\n",
        "\n",
        "                # Get model prediction\n",
        "                noise_pred = inferer(\n",
        "                    inputs=images,\n",
        "                    diffusion_model=model,\n",
        "                    noise=noise,\n",
        "                    timesteps=timesteps)\n",
        "\n",
        "                loss = F.mse_loss(noise_pred.float(), noise.float())\n",
        "\n",
        "            scaler.scale(loss).backward()\n",
        "            scaler.step(optimizer)\n",
        "            scaler.update()\n",
        "\n",
        "            epoch_loss += loss.item()\n",
        "\n",
        "            progress_bar.set_postfix({\"loss\": epoch_loss / (step + 1)})\n",
        "        epoch_loss_list.append(epoch_loss / (step + 1))\n",
        "\n",
        "        if (epoch + 1) % val_interval == 0:\n",
        "            model.eval()\n",
        "            val_epoch_loss = 0\n",
        "            for step, batch in enumerate(val_loader):\n",
        "                images = batch[\"image\"].to(device)\n",
        "                with torch.no_grad():\n",
        "                    with autocast(enabled=True):\n",
        "                        noise = torch.randn_like(images).to(device)\n",
        "                        timesteps = torch.randint(\n",
        "                            0, inferer.scheduler.num_train_timesteps, (images.shape[0],), device=images.device\n",
        "                        ).long()\n",
        "                        noise_pred = inferer(inputs=images, diffusion_model=model, noise=noise, timesteps=timesteps)\n",
        "                        val_loss = F.mse_loss(noise_pred.float(), noise.float())\n",
        "\n",
        "                val_epoch_loss += val_loss.item()\n",
        "                progress_bar.set_postfix({\"val_loss\": val_epoch_loss / (step + 1)})\n",
        "            val_epoch_loss_list.append(val_epoch_loss / (step + 1))\n",
        "\n",
        "            # Sampling image during training\n",
        "            noise = torch.randn((1, 1, 64, 64))\n",
        "            noise = noise.to(device)\n",
        "            scheduler.set_timesteps(num_inference_steps=1000)\n",
        "            with autocast(enabled=True):\n",
        "                image = inferer.sample(input_noise=noise, diffusion_model=model, scheduler=scheduler)\n",
        "\n",
        "            plt.figure(figsize=(2, 2))\n",
        "            plt.imshow(image[0, 0].cpu(), vmin=0, vmax=1, cmap=\"gray\")\n",
        "            plt.tight_layout()\n",
        "            plt.axis(\"off\")\n",
        "            plt.show()\n",
        "\n",
        "    total_time = time.time() - total_start\n",
        "    print(f\"train completed, total time: {total_time}.\")\n"
      ]
    },
    {
      "cell_type": "code",
      "source": [
        "torch.save(model.state_dict(), f'drive/MyDrive/DDPM/models/DDPM_{n_epochs}_eps.pt')"
      ],
      "metadata": {
        "id": "mDCcJAT_rcR0"
      },
      "id": "mDCcJAT_rcR0",
      "execution_count": null,
      "outputs": []
    },
    {
      "cell_type": "markdown",
      "id": "84d55cb6-4957-487a-bc82-8e6e1d2e263e",
      "metadata": {
        "id": "84d55cb6-4957-487a-bc82-8e6e1d2e263e"
      },
      "source": [
        "## Plot the Learning Curve"
      ]
    },
    {
      "cell_type": "code",
      "execution_count": null,
      "id": "3bede253-aa8b-4014-8924-cc7de9910ed7",
      "metadata": {
        "id": "3bede253-aa8b-4014-8924-cc7de9910ed7"
      },
      "outputs": [],
      "source": [
        "if not use_pretrained:\n",
        "    plt.style.use(\"seaborn-v0_8-white\")\n",
        "    plt.title(\"Learning Curves\", fontsize=20)\n",
        "    plt.plot(np.linspace(1, n_epochs, n_epochs), epoch_loss_list, color=\"C0\", linewidth=2.0, label=\"Train\")\n",
        "    plt.plot(\n",
        "        np.linspace(val_interval, n_epochs, int(n_epochs / val_interval)),\n",
        "        val_epoch_loss_list,\n",
        "        color=\"C1\",\n",
        "        linewidth=2.0,\n",
        "        label=\"Validation\",\n",
        "    )\n",
        "    plt.yticks(fontsize=12)\n",
        "    plt.xticks(fontsize=12)\n",
        "    plt.xlabel(\"Epochs\", fontsize=16)\n",
        "    plt.ylabel(\"Loss\", fontsize=16)\n",
        "    plt.legend(prop={\"size\": 14})\n",
        "    plt.show()"
      ]
    },
    {
      "cell_type": "markdown",
      "id": "f7ab26f0-d0c3-478b-bea1-b2632933cd6a",
      "metadata": {
        "id": "f7ab26f0-d0c3-478b-bea1-b2632933cd6a"
      },
      "source": [
        "## Plotting sampling process along DDPM's Markov chain"
      ]
    },
    {
      "cell_type": "code",
      "execution_count": null,
      "id": "fbd50c41-4f18-4e11-bd3f-3c374e1fb24b",
      "metadata": {
        "id": "fbd50c41-4f18-4e11-bd3f-3c374e1fb24b"
      },
      "outputs": [],
      "source": [
        "model.eval()\n",
        "noise = torch.randn((1, 1, 64, 64))\n",
        "noise = noise.to(device)\n",
        "scheduler.set_timesteps(num_inference_steps=1000)\n",
        "with autocast(enabled=True):\n",
        "    image, intermediates = inferer.sample(\n",
        "        input_noise=noise, diffusion_model=model, scheduler=scheduler, save_intermediates=True, intermediate_steps=100\n",
        "    )\n",
        "\n",
        "chain = torch.cat(intermediates, dim=-1)\n",
        "\n",
        "plt.style.use(\"default\")\n",
        "plt.imshow(chain[0, 0].cpu(), vmin=0, vmax=1, cmap=\"gray\")\n",
        "plt.tight_layout()\n",
        "plt.axis(\"off\")\n",
        "plt.show()"
      ]
    },
    {
      "cell_type": "markdown",
      "source": [
        "# Last generated image"
      ],
      "metadata": {
        "id": "kABq8Mxq4wbd"
      },
      "id": "kABq8Mxq4wbd"
    },
    {
      "cell_type": "code",
      "source": [
        "plt.imshow(image.squeeze().cpu(), vmin=0, vmax=1, cmap=\"gray\")\n",
        "plt.axis(\"off\")\n",
        "plt.show()"
      ],
      "metadata": {
        "id": "R3IdU2yWse9Q"
      },
      "id": "R3IdU2yWse9Q",
      "execution_count": null,
      "outputs": []
    },
    {
      "cell_type": "code",
      "source": [],
      "metadata": {
        "id": "E_DmlX_v3s8x"
      },
      "id": "E_DmlX_v3s8x",
      "execution_count": null,
      "outputs": []
    }
  ],
  "metadata": {
    "kernelspec": {
      "display_name": "Python 3",
      "name": "python3"
    },
    "language_info": {
      "codemirror_mode": {
        "name": "ipython",
        "version": 3
      },
      "file_extension": ".py",
      "mimetype": "text/x-python",
      "name": "python",
      "nbconvert_exporter": "python",
      "pygments_lexer": "ipython3",
      "version": "3.10.13"
    },
    "colab": {
      "provenance": [],
      "gpuType": "T4",
      "include_colab_link": true
    },
    "accelerator": "GPU"
  },
  "nbformat": 4,
  "nbformat_minor": 5
}