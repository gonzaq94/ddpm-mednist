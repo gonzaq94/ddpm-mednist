{
  "cells": [
    {
      "cell_type": "markdown",
      "metadata": {
        "id": "view-in-github",
        "colab_type": "text"
      },
      "source": [
        "<a href=\"https://colab.research.google.com/github/gonzaq94/ddpm-mednist/blob/main/1_monai_ddpm_with_mednist.ipynb\" target=\"_parent\"><img src=\"https://colab.research.google.com/assets/colab-badge.svg\" alt=\"Open In Colab\"/></a>"
      ]
    },
    {
      "cell_type": "markdown",
      "id": "e9d82774-2fa5-4349-9e75-6dd49a6c5169",
      "metadata": {
        "id": "e9d82774-2fa5-4349-9e75-6dd49a6c5169"
      },
      "source": [
        "# ISBI 2024 DiMEDIA: MONAI Tutorial: DDPM with MedNIST Dataset\n",
        "\n",
        "MONAI is a PyTorch-based, open-source framework for deep learning in healthcare imaging, part of PyTorch Ecosystem. Its ambitions are:\n",
        "\n",
        "- developing a community of academic, industrial and clinical researchers collaborating on a common foundation;\n",
        "- creating state-of-the-art, end-to-end training workflows for healthcare imaging;\n",
        "- providing researchers with the optimized and standardized way to create and evaluate deep learning models.\n",
        "\n",
        "## Get Started\n",
        "\n",
        "MONAI contains three main components: MONAI Core, MONAI Label and MONAI Deploy. For tutorial use, we only adopt the MONAI Core and MONAI Label.\n",
        "\n",
        "To install the current release, run the following command:\n"
      ]
    },
    {
      "cell_type": "code",
      "execution_count": null,
      "id": "253b18d8-e5aa-4d84-ba44-c783bc4edd14",
      "metadata": {
        "colab": {
          "base_uri": "https://localhost:8080/"
        },
        "id": "253b18d8-e5aa-4d84-ba44-c783bc4edd14",
        "outputId": "4d28fb29-ac40-4ad2-e6c9-27e7bfa54fbc"
      },
      "outputs": [
        {
          "output_type": "stream",
          "name": "stdout",
          "text": [
            "  Preparing metadata (setup.py) ... \u001b[?25l\u001b[?25hdone\n",
            "\u001b[2K     \u001b[90m━━━━━━━━━━━━━━━━━━━━━━━━━━━━━━━━━━━━━━━━\u001b[0m \u001b[32m103.4/103.4 kB\u001b[0m \u001b[31m6.3 MB/s\u001b[0m eta \u001b[36m0:00:00\u001b[0m\n",
            "\u001b[?25h  Preparing metadata (setup.py) ... \u001b[?25l\u001b[?25hdone\n",
            "  Preparing metadata (setup.py) ... \u001b[?25l\u001b[?25hdone\n",
            "\u001b[2K     \u001b[90m━━━━━━━━━━━━━━━━━━━━━━━━━━━━━━━━━━━━━━━━\u001b[0m \u001b[32m88.4/88.4 kB\u001b[0m \u001b[31m7.0 MB/s\u001b[0m eta \u001b[36m0:00:00\u001b[0m\n",
            "\u001b[?25h  Preparing metadata (setup.py) ... \u001b[?25l\u001b[?25hdone\n",
            "\u001b[2K     \u001b[90m━━━━━━━━━━━━━━━━━━━━━━━━━━━━━━━━━━━━━━━━\u001b[0m \u001b[32m359.0/359.0 kB\u001b[0m \u001b[31m26.9 MB/s\u001b[0m eta \u001b[36m0:00:00\u001b[0m\n",
            "\u001b[?25h  Preparing metadata (setup.py) ... \u001b[?25l\u001b[?25hdone\n",
            "\u001b[2K   \u001b[90m━━━━━━━━━━━━━━━━━━━━━━━━━━━━━━━━━━━━━━━━\u001b[0m \u001b[32m1.4/1.4 MB\u001b[0m \u001b[31m64.4 MB/s\u001b[0m eta \u001b[36m0:00:00\u001b[0m\n",
            "\u001b[2K   \u001b[90m━━━━━━━━━━━━━━━━━━━━━━━━━━━━━━━━━━━━━━━━\u001b[0m \u001b[32m11.9/11.9 MB\u001b[0m \u001b[31m105.2 MB/s\u001b[0m eta \u001b[36m0:00:00\u001b[0m\n",
            "\u001b[2K   \u001b[90m━━━━━━━━━━━━━━━━━━━━━━━━━━━━━━━━━━━━━━━━\u001b[0m \u001b[32m698.9/698.9 kB\u001b[0m \u001b[31m41.4 MB/s\u001b[0m eta \u001b[36m0:00:00\u001b[0m\n",
            "\u001b[2K   \u001b[90m━━━━━━━━━━━━━━━━━━━━━━━━━━━━━━━━━━━━━━━━\u001b[0m \u001b[32m60.9/60.9 kB\u001b[0m \u001b[31m5.5 MB/s\u001b[0m eta \u001b[36m0:00:00\u001b[0m\n",
            "\u001b[2K   \u001b[90m━━━━━━━━━━━━━━━━━━━━━━━━━━━━━━━━━━━━━━━━\u001b[0m \u001b[32m44.6/44.6 kB\u001b[0m \u001b[31m4.0 MB/s\u001b[0m eta \u001b[36m0:00:00\u001b[0m\n",
            "\u001b[2K   \u001b[90m━━━━━━━━━━━━━━━━━━━━━━━━━━━━━━━━━━━━━━━━\u001b[0m \u001b[32m91.9/91.9 kB\u001b[0m \u001b[31m7.8 MB/s\u001b[0m eta \u001b[36m0:00:00\u001b[0m\n",
            "\u001b[2K   \u001b[90m━━━━━━━━━━━━━━━━━━━━━━━━━━━━━━━━━━━━━━━━\u001b[0m \u001b[32m189.2/189.2 kB\u001b[0m \u001b[31m16.5 MB/s\u001b[0m eta \u001b[36m0:00:00\u001b[0m\n",
            "\u001b[2K   \u001b[90m━━━━━━━━━━━━━━━━━━━━━━━━━━━━━━━━━━━━━━━━\u001b[0m \u001b[32m75.6/75.6 kB\u001b[0m \u001b[31m7.4 MB/s\u001b[0m eta \u001b[36m0:00:00\u001b[0m\n",
            "\u001b[2K   \u001b[90m━━━━━━━━━━━━━━━━━━━━━━━━━━━━━━━━━━━━━━━━\u001b[0m \u001b[32m307.2/307.2 kB\u001b[0m \u001b[31m25.9 MB/s\u001b[0m eta \u001b[36m0:00:00\u001b[0m\n",
            "\u001b[2K   \u001b[90m━━━━━━━━━━━━━━━━━━━━━━━━━━━━━━━━━━━━━━━━\u001b[0m \u001b[32m51.6/51.6 kB\u001b[0m \u001b[31m4.9 MB/s\u001b[0m eta \u001b[36m0:00:00\u001b[0m\n",
            "\u001b[2K   \u001b[90m━━━━━━━━━━━━━━━━━━━━━━━━━━━━━━━━━━━━━━━━\u001b[0m \u001b[32m525.6/525.6 kB\u001b[0m \u001b[31m35.2 MB/s\u001b[0m eta \u001b[36m0:00:00\u001b[0m\n",
            "\u001b[2K   \u001b[90m━━━━━━━━━━━━━━━━━━━━━━━━━━━━━━━━━━━━━━━━\u001b[0m \u001b[32m407.9/407.9 kB\u001b[0m \u001b[31m33.4 MB/s\u001b[0m eta \u001b[36m0:00:00\u001b[0m\n",
            "\u001b[2K   \u001b[90m━━━━━━━━━━━━━━━━━━━━━━━━━━━━━━━━━━━━━━━━\u001b[0m \u001b[32m1.8/1.8 MB\u001b[0m \u001b[31m47.8 MB/s\u001b[0m eta \u001b[36m0:00:00\u001b[0m\n",
            "\u001b[2K   \u001b[90m━━━━━━━━━━━━━━━━━━━━━━━━━━━━━━━━━━━━━━━━\u001b[0m \u001b[32m1.6/1.6 MB\u001b[0m \u001b[31m66.0 MB/s\u001b[0m eta \u001b[36m0:00:00\u001b[0m\n",
            "\u001b[2K   \u001b[90m━━━━━━━━━━━━━━━━━━━━━━━━━━━━━━━━━━━━━━━━\u001b[0m \u001b[32m705.5/705.5 kB\u001b[0m \u001b[31m49.2 MB/s\u001b[0m eta \u001b[36m0:00:00\u001b[0m\n",
            "\u001b[2K   \u001b[90m━━━━━━━━━━━━━━━━━━━━━━━━━━━━━━━━━━━━━━━━\u001b[0m \u001b[32m62.6/62.6 kB\u001b[0m \u001b[31m4.8 MB/s\u001b[0m eta \u001b[36m0:00:00\u001b[0m\n",
            "\u001b[2K   \u001b[90m━━━━━━━━━━━━━━━━━━━━━━━━━━━━━━━━━━━━━━━━\u001b[0m \u001b[32m54.5/54.5 kB\u001b[0m \u001b[31m4.9 MB/s\u001b[0m eta \u001b[36m0:00:00\u001b[0m\n",
            "\u001b[2K   \u001b[90m━━━━━━━━━━━━━━━━━━━━━━━━━━━━━━━━━━━━━━━━\u001b[0m \u001b[32m2.5/2.5 MB\u001b[0m \u001b[31m90.7 MB/s\u001b[0m eta \u001b[36m0:00:00\u001b[0m\n",
            "\u001b[2K   \u001b[90m━━━━━━━━━━━━━━━━━━━━━━━━━━━━━━━━━━━━━━━━\u001b[0m \u001b[32m121.1/121.1 kB\u001b[0m \u001b[31m10.2 MB/s\u001b[0m eta \u001b[36m0:00:00\u001b[0m\n",
            "\u001b[2K   \u001b[90m━━━━━━━━━━━━━━━━━━━━━━━━━━━━━━━━━━━━━━━━\u001b[0m \u001b[32m60.8/60.8 kB\u001b[0m \u001b[31m4.5 MB/s\u001b[0m eta \u001b[36m0:00:00\u001b[0m\n",
            "\u001b[2K   \u001b[90m━━━━━━━━━━━━━━━━━━━━━━━━━━━━━━━━━━━━━━━━\u001b[0m \u001b[32m83.0/83.0 kB\u001b[0m \u001b[31m6.9 MB/s\u001b[0m eta \u001b[36m0:00:00\u001b[0m\n",
            "\u001b[2K   \u001b[90m━━━━━━━━━━━━━━━━━━━━━━━━━━━━━━━━━━━━━━━━\u001b[0m \u001b[32m77.9/77.9 kB\u001b[0m \u001b[31m6.7 MB/s\u001b[0m eta \u001b[36m0:00:00\u001b[0m\n",
            "\u001b[2K   \u001b[90m━━━━━━━━━━━━━━━━━━━━━━━━━━━━━━━━━━━━━━━━\u001b[0m \u001b[32m2.1/2.1 MB\u001b[0m \u001b[31m78.0 MB/s\u001b[0m eta \u001b[36m0:00:00\u001b[0m\n",
            "\u001b[2K   \u001b[90m━━━━━━━━━━━━━━━━━━━━━━━━━━━━━━━━━━━━━━━━\u001b[0m \u001b[32m176.2/176.2 kB\u001b[0m \u001b[31m15.8 MB/s\u001b[0m eta \u001b[36m0:00:00\u001b[0m\n",
            "\u001b[2K   \u001b[90m━━━━━━━━━━━━━━━━━━━━━━━━━━━━━━━━━━━━━━━━\u001b[0m \u001b[32m266.5/266.5 kB\u001b[0m \u001b[31m22.0 MB/s\u001b[0m eta \u001b[36m0:00:00\u001b[0m\n",
            "\u001b[2K   \u001b[90m━━━━━━━━━━━━━━━━━━━━━━━━━━━━━━━━━━━━━━━━\u001b[0m \u001b[32m58.3/58.3 kB\u001b[0m \u001b[31m727.2 kB/s\u001b[0m eta \u001b[36m0:00:00\u001b[0m\n",
            "\u001b[2K   \u001b[90m━━━━━━━━━━━━━━━━━━━━━━━━━━━━━━━━━━━━━━━━\u001b[0m \u001b[32m80.2/80.2 MB\u001b[0m \u001b[31m9.9 MB/s\u001b[0m eta \u001b[36m0:00:00\u001b[0m\n",
            "\u001b[2K   \u001b[90m━━━━━━━━━━━━━━━━━━━━━━━━━━━━━━━━━━━━━━━━\u001b[0m \u001b[32m67.7/67.7 MB\u001b[0m \u001b[31m10.9 MB/s\u001b[0m eta \u001b[36m0:00:00\u001b[0m\n",
            "\u001b[2K   \u001b[90m━━━━━━━━━━━━━━━━━━━━━━━━━━━━━━━━━━━━━━━━\u001b[0m \u001b[32m28.0/28.0 MB\u001b[0m \u001b[31m59.3 MB/s\u001b[0m eta \u001b[36m0:00:00\u001b[0m\n",
            "\u001b[2K   \u001b[90m━━━━━━━━━━━━━━━━━━━━━━━━━━━━━━━━━━━━━━━━\u001b[0m \u001b[32m57.0/57.0 MB\u001b[0m \u001b[31m11.7 MB/s\u001b[0m eta \u001b[36m0:00:00\u001b[0m\n",
            "\u001b[2K   \u001b[90m━━━━━━━━━━━━━━━━━━━━━━━━━━━━━━━━━━━━━━━━\u001b[0m \u001b[32m28.4/28.4 MB\u001b[0m \u001b[31m66.7 MB/s\u001b[0m eta \u001b[36m0:00:00\u001b[0m\n",
            "\u001b[2K   \u001b[90m━━━━━━━━━━━━━━━━━━━━━━━━━━━━━━━━━━━━━━━━\u001b[0m \u001b[32m15.8/15.8 MB\u001b[0m \u001b[31m72.9 MB/s\u001b[0m eta \u001b[36m0:00:00\u001b[0m\n",
            "\u001b[2K   \u001b[90m━━━━━━━━━━━━━━━━━━━━━━━━━━━━━━━━━━━━━━━━\u001b[0m \u001b[32m56.3/56.3 kB\u001b[0m \u001b[31m4.0 MB/s\u001b[0m eta \u001b[36m0:00:00\u001b[0m\n",
            "\u001b[2K   \u001b[90m━━━━━━━━━━━━━━━━━━━━━━━━━━━━━━━━━━━━━━━━\u001b[0m \u001b[32m26.3/26.3 MB\u001b[0m \u001b[31m18.4 MB/s\u001b[0m eta \u001b[36m0:00:00\u001b[0m\n",
            "\u001b[2K   \u001b[90m━━━━━━━━━━━━━━━━━━━━━━━━━━━━━━━━━━━━━━━━\u001b[0m \u001b[32m5.5/5.5 MB\u001b[0m \u001b[31m102.7 MB/s\u001b[0m eta \u001b[36m0:00:00\u001b[0m\n",
            "\u001b[2K   \u001b[90m━━━━━━━━━━━━━━━━━━━━━━━━━━━━━━━━━━━━━━━━\u001b[0m \u001b[32m52.4/52.4 MB\u001b[0m \u001b[31m12.6 MB/s\u001b[0m eta \u001b[36m0:00:00\u001b[0m\n",
            "\u001b[2K   \u001b[90m━━━━━━━━━━━━━━━━━━━━━━━━━━━━━━━━━━━━━━━━\u001b[0m \u001b[32m71.9/71.9 kB\u001b[0m \u001b[31m5.4 MB/s\u001b[0m eta \u001b[36m0:00:00\u001b[0m\n",
            "\u001b[2K   \u001b[90m━━━━━━━━━━━━━━━━━━━━━━━━━━━━━━━━━━━━━━━━\u001b[0m \u001b[32m45.5/45.5 kB\u001b[0m \u001b[31m3.6 MB/s\u001b[0m eta \u001b[36m0:00:00\u001b[0m\n",
            "\u001b[2K   \u001b[90m━━━━━━━━━━━━━━━━━━━━━━━━━━━━━━━━━━━━━━━━\u001b[0m \u001b[32m294.9/294.9 kB\u001b[0m \u001b[31m22.1 MB/s\u001b[0m eta \u001b[36m0:00:00\u001b[0m\n",
            "\u001b[2K   \u001b[90m━━━━━━━━━━━━━━━━━━━━━━━━━━━━━━━━━━━━━━━━\u001b[0m \u001b[32m233.0/233.0 kB\u001b[0m \u001b[31m18.9 MB/s\u001b[0m eta \u001b[36m0:00:00\u001b[0m\n",
            "\u001b[2K   \u001b[90m━━━━━━━━━━━━━━━━━━━━━━━━━━━━━━━━━━━━━━━━\u001b[0m \u001b[32m147.8/147.8 kB\u001b[0m \u001b[31m13.3 MB/s\u001b[0m eta \u001b[36m0:00:00\u001b[0m\n",
            "\u001b[2K   \u001b[90m━━━━━━━━━━━━━━━━━━━━━━━━━━━━━━━━━━━━━━━━\u001b[0m \u001b[32m128.2/128.2 kB\u001b[0m \u001b[31m11.5 MB/s\u001b[0m eta \u001b[36m0:00:00\u001b[0m\n",
            "\u001b[2K   \u001b[90m━━━━━━━━━━━━━━━━━━━━━━━━━━━━━━━━━━━━━━━━\u001b[0m \u001b[32m84.4/84.4 kB\u001b[0m \u001b[31m7.3 MB/s\u001b[0m eta \u001b[36m0:00:00\u001b[0m\n",
            "\u001b[2K   \u001b[90m━━━━━━━━━━━━━━━━━━━━━━━━━━━━━━━━━━━━━━━━\u001b[0m \u001b[32m117.7/117.7 kB\u001b[0m \u001b[31m10.0 MB/s\u001b[0m eta \u001b[36m0:00:00\u001b[0m\n",
            "\u001b[2K   \u001b[90m━━━━━━━━━━━━━━━━━━━━━━━━━━━━━━━━━━━━━━━━\u001b[0m \u001b[32m52.8/52.8 kB\u001b[0m \u001b[31m4.4 MB/s\u001b[0m eta \u001b[36m0:00:00\u001b[0m\n",
            "\u001b[2K   \u001b[90m━━━━━━━━━━━━━━━━━━━━━━━━━━━━━━━━━━━━━━━━\u001b[0m \u001b[32m538.8/538.8 kB\u001b[0m \u001b[31m35.0 MB/s\u001b[0m eta \u001b[36m0:00:00\u001b[0m\n",
            "\u001b[2K   \u001b[90m━━━━━━━━━━━━━━━━━━━━━━━━━━━━━━━━━━━━━━━━\u001b[0m \u001b[32m207.3/207.3 kB\u001b[0m \u001b[31m17.5 MB/s\u001b[0m eta \u001b[36m0:00:00\u001b[0m\n",
            "\u001b[2K   \u001b[90m━━━━━━━━━━━━━━━━━━━━━━━━━━━━━━━━━━━━━━━━\u001b[0m \u001b[32m202.9/202.9 kB\u001b[0m \u001b[31m17.1 MB/s\u001b[0m eta \u001b[36m0:00:00\u001b[0m\n",
            "\u001b[2K   \u001b[90m━━━━━━━━━━━━━━━━━━━━━━━━━━━━━━━━━━━━━━━━\u001b[0m \u001b[32m61.5/61.5 kB\u001b[0m \u001b[31m5.0 MB/s\u001b[0m eta \u001b[36m0:00:00\u001b[0m\n",
            "\u001b[2K   \u001b[90m━━━━━━━━━━━━━━━━━━━━━━━━━━━━━━━━━━━━━━━━\u001b[0m \u001b[32m109.5/109.5 kB\u001b[0m \u001b[31m9.3 MB/s\u001b[0m eta \u001b[36m0:00:00\u001b[0m\n",
            "\u001b[2K   \u001b[90m━━━━━━━━━━━━━━━━━━━━━━━━━━━━━━━━━━━━━━━━\u001b[0m \u001b[32m138.0/138.0 kB\u001b[0m \u001b[31m11.6 MB/s\u001b[0m eta \u001b[36m0:00:00\u001b[0m\n",
            "\u001b[2K   \u001b[90m━━━━━━━━━━━━━━━━━━━━━━━━━━━━━━━━━━━━━━━━\u001b[0m \u001b[32m78.6/78.6 kB\u001b[0m \u001b[31m6.6 MB/s\u001b[0m eta \u001b[36m0:00:00\u001b[0m\n",
            "\u001b[2K   \u001b[90m━━━━━━━━━━━━━━━━━━━━━━━━━━━━━━━━━━━━━━━━\u001b[0m \u001b[32m62.7/62.7 kB\u001b[0m \u001b[31m5.6 MB/s\u001b[0m eta \u001b[36m0:00:00\u001b[0m\n",
            "\u001b[?25h  Building wheel for girder-client (setup.py) ... \u001b[?25l\u001b[?25hdone\n",
            "  Building wheel for timeloop (setup.py) ... \u001b[?25l\u001b[?25hdone\n",
            "  Building wheel for google-oauth (setup.py) ... \u001b[?25l\u001b[?25hdone\n",
            "  Building wheel for fire (setup.py) ... \u001b[?25l\u001b[?25hdone\n",
            "  Building wheel for openslide-python (setup.py) ... \u001b[?25l\u001b[?25hdone\n",
            "\u001b[31mERROR: pip's dependency resolver does not currently take into account all the packages that are installed. This behaviour is the source of the following dependency conflicts.\n",
            "google-colab 1.0.0 requires google-auth==2.27.0, but you have google-auth 2.29.0 which is incompatible.\n",
            "google-colab 1.0.0 requires requests==2.32.3, but you have requests 2.31.0 which is incompatible.\u001b[0m\u001b[31m\n",
            "\u001b[0m"
          ]
        }
      ],
      "source": [
        "!pip install -q matplotlib monai monailabel monai-generative\n",
        "%matplotlib inline"
      ]
    },
    {
      "cell_type": "markdown",
      "id": "60f8bd5b-8884-488e-9bea-945dc5fc5990",
      "metadata": {
        "id": "60f8bd5b-8884-488e-9bea-945dc5fc5990"
      },
      "source": [
        "First impor the necessary packages, and you can verify the installation by:"
      ]
    },
    {
      "cell_type": "code",
      "execution_count": null,
      "id": "18276971-9548-4f09-a122-3053e0a56830",
      "metadata": {
        "colab": {
          "base_uri": "https://localhost:8080/"
        },
        "id": "18276971-9548-4f09-a122-3053e0a56830",
        "outputId": "5bcf3a47-c653-4f2f-9a04-b08035f16e73"
      },
      "outputs": [
        {
          "output_type": "stream",
          "name": "stdout",
          "text": [
            "MONAI version: 1.3.2\n",
            "Numpy version: 1.26.4\n",
            "Pytorch version: 2.3.1+cu121\n",
            "MONAI flags: HAS_EXT = False, USE_COMPILED = False, USE_META_DICT = False\n",
            "MONAI rev id: 59a7211070538586369afd4a01eca0a7fe2e742e\n",
            "MONAI __file__: /usr/local/lib/python3.10/dist-packages/monai/__init__.py\n",
            "\n",
            "Optional dependencies:\n",
            "Pytorch Ignite version: 0.4.11\n",
            "ITK version: 5.4.0\n",
            "Nibabel version: 5.0.1\n",
            "scikit-image version: 0.23.2\n",
            "scipy version: 1.13.1\n",
            "Pillow version: 9.4.0\n",
            "Tensorboard version: 2.17.0\n",
            "gdown version: 4.7.3\n",
            "TorchVision version: 0.18.1+cu121\n",
            "tqdm version: 4.66.5\n",
            "lmdb version: 1.5.1\n",
            "psutil version: 5.9.5\n",
            "pandas version: 2.1.4\n",
            "einops version: 0.7.0\n",
            "transformers version: 4.42.4\n",
            "mlflow version: 2.15.1\n",
            "pynrrd version: 1.0.0\n",
            "clearml version: NOT INSTALLED or UNKNOWN VERSION.\n",
            "\n",
            "For details about installing the optional dependencies, please visit:\n",
            "    https://docs.monai.io/en/latest/installation.html#installing-the-recommended-dependencies\n",
            "\n"
          ]
        }
      ],
      "source": [
        "import os\n",
        "import shutil\n",
        "import tempfile\n",
        "import time\n",
        "\n",
        "import matplotlib.pyplot as plt\n",
        "import numpy as np\n",
        "import torch\n",
        "import torch.nn.functional as F\n",
        "import monai\n",
        "from monai import transforms\n",
        "from monai.apps import MedNISTDataset\n",
        "from monai.config import print_config\n",
        "from monai.data import CacheDataset, DataLoader\n",
        "from monai.utils import first, set_determinism\n",
        "from torch.cuda.amp import GradScaler, autocast\n",
        "from tqdm import tqdm\n",
        "\n",
        "from generative.inferers import DiffusionInferer\n",
        "from generative.networks.nets import DiffusionModelUNet\n",
        "from generative.networks.schedulers import DDPMScheduler\n",
        "\n",
        "set_determinism(42)\n",
        "\n",
        "monai.config.print_config()"
      ]
    },
    {
      "cell_type": "markdown",
      "id": "fdb059ac-bf02-4d25-af1b-4c78313ff9ab",
      "metadata": {
        "id": "fdb059ac-bf02-4d25-af1b-4c78313ff9ab"
      },
      "source": [
        "## Set up the MedNIST Dataset\n",
        "\n",
        "In this tutorial, we will train our models on the MedNIST dataset available on MONAI (https://docs.monai.io/en/stable/apps.html#monai.apps.MedNISTDataset).\n",
        "\n",
        "In order to train faster, we will select just one of the available classes (\"Hand\"), resulting in a training set with 7999 2D images.\n",
        "\n",
        "You can specify a directory with the MONAI_DATA_DIRECTORY environment variable. For the convenience, we use the `data` folder in the current path:"
      ]
    },
    {
      "cell_type": "code",
      "execution_count": null,
      "id": "f173de8c-4255-442a-85cb-c46dbd114081",
      "metadata": {
        "colab": {
          "base_uri": "https://localhost:8080/"
        },
        "id": "f173de8c-4255-442a-85cb-c46dbd114081",
        "outputId": "cb8e49cb-6df1-44c8-8fa9-74e13c46bb6e"
      },
      "outputs": [
        {
          "output_type": "stream",
          "name": "stdout",
          "text": [
            "2024-08-15 16:04:13,165 - INFO - Downloaded: data/MedNIST.tar.gz\n",
            "2024-08-15 16:04:13,282 - INFO - Verified 'MedNIST.tar.gz', md5: 0bc7306e7427e00ad1c5526a6677552d.\n",
            "2024-08-15 16:04:13,283 - INFO - Writing into directory: data.\n"
          ]
        }
      ],
      "source": [
        "root_dir = './'\n",
        "data_dir = './data/'\n",
        "os.makedirs(data_dir, exist_ok=True)\n",
        "\n",
        "train_data = MedNISTDataset(root_dir=data_dir,\n",
        "                            section=\"training\",\n",
        "                            download=True,\n",
        "                            progress=False,\n",
        "                            seed=0)\n",
        "train_datalist = [{\"image\": item[\"image\"]} for item in train_data.data if item[\"class_name\"] == \"Hand\"]"
      ]
    },
    {
      "cell_type": "markdown",
      "id": "7224caae-3d4c-4161-907f-ad4119226233",
      "metadata": {
        "id": "7224caae-3d4c-4161-907f-ad4119226233"
      },
      "source": [
        "Here we use transforms to augment the training dataset:\n",
        "\n",
        "- `LoadImaged` loads the hands images from files.\n",
        "- `EnsureChannelFirstd` ensures the original data to construct \"channel first\" shape.\n",
        "- `ScaleIntensityRanged` extracts intensity range [0, 255] and scales to [0, 1].\n",
        "- `RandAffined` efficiently performs rotate, scale, shear, translate, etc. together based on PyTorch affine transform."
      ]
    },
    {
      "cell_type": "code",
      "execution_count": null,
      "id": "97d677ec-f294-4250-9c7e-fb069e74c38f",
      "metadata": {
        "colab": {
          "base_uri": "https://localhost:8080/"
        },
        "id": "97d677ec-f294-4250-9c7e-fb069e74c38f",
        "outputId": "6c01e6b3-f017-4ef5-afd9-084363877b48"
      },
      "outputs": [
        {
          "output_type": "stream",
          "name": "stderr",
          "text": [
            "Loading dataset: 100%|██████████| 7999/7999 [00:11<00:00, 704.75it/s]\n"
          ]
        }
      ],
      "source": [
        "train_transforms = transforms.Compose(\n",
        "    [\n",
        "        transforms.LoadImaged(keys=[\"image\"]),\n",
        "        transforms.EnsureChannelFirstd(keys=[\"image\"]),\n",
        "        transforms.ScaleIntensityRanged(keys=[\"image\"],\n",
        "                                        a_min=0.0,\n",
        "                                        a_max=255.0,\n",
        "                                        b_min=0.0,\n",
        "                                        b_max=1.0,\n",
        "                                        clip=True),\n",
        "        transforms.RandAffined(\n",
        "            keys=[\"image\"],\n",
        "            rotate_range=[(-np.pi / 36, np.pi / 36), (-np.pi / 36, np.pi / 36)],\n",
        "            translate_range=[(-1, 1), (-1, 1)],\n",
        "            scale_range=[(-0.05, 0.05), (-0.05, 0.05)],\n",
        "            spatial_size=[64, 64],\n",
        "            padding_mode=\"zeros\",\n",
        "            prob=0.5,\n",
        "        ),\n",
        "    ]\n",
        ")\n",
        "train_ds = CacheDataset(data=train_datalist, transform=train_transforms)\n",
        "train_loader = DataLoader(train_ds, batch_size=16, shuffle=True, num_workers=2, persistent_workers=True)"
      ]
    },
    {
      "cell_type": "markdown",
      "id": "6e5f0865-f4b8-42f6-9b45-17253e304a68",
      "metadata": {
        "id": "6e5f0865-f4b8-42f6-9b45-17253e304a68"
      },
      "source": [
        "We can get the validation data the same way:"
      ]
    },
    {
      "cell_type": "code",
      "execution_count": null,
      "id": "98b2c37a-4c8f-4ea5-920b-8cf32ba9fba9",
      "metadata": {
        "colab": {
          "base_uri": "https://localhost:8080/"
        },
        "id": "98b2c37a-4c8f-4ea5-920b-8cf32ba9fba9",
        "outputId": "f8853472-5db0-4b54-cc16-0db2372f6cf4"
      },
      "outputs": [
        {
          "output_type": "stream",
          "name": "stdout",
          "text": [
            "2024-08-15 16:20:06,061 - INFO - Verified 'MedNIST.tar.gz', md5: 0bc7306e7427e00ad1c5526a6677552d.\n",
            "2024-08-15 16:20:06,063 - INFO - File exists: data/MedNIST.tar.gz, skipped downloading.\n",
            "2024-08-15 16:20:06,067 - INFO - Non-empty folder exists in data/MedNIST, skipped extracting.\n"
          ]
        },
        {
          "output_type": "stream",
          "name": "stderr",
          "text": [
            "Loading dataset: 100%|██████████| 1005/1005 [00:01<00:00, 626.40it/s]\n"
          ]
        }
      ],
      "source": [
        "val_data = MedNISTDataset(root_dir=data_dir,\n",
        "                          section=\"validation\",\n",
        "                          download=True,\n",
        "                          progress=False,\n",
        "                          seed=0)\n",
        "val_datalist = [{\"image\": item[\"image\"]} for item in val_data.data if item[\"class_name\"] == \"Hand\"]\n",
        "val_transforms = transforms.Compose(\n",
        "    [\n",
        "        transforms.LoadImaged(keys=[\"image\"]),\n",
        "        transforms.EnsureChannelFirstd(keys=[\"image\"]),\n",
        "        transforms.ScaleIntensityRanged(keys=[\"image\"],\n",
        "                                        a_min=0.0,\n",
        "                                        a_max=255.0,\n",
        "                                        b_min=0.0,\n",
        "                                        b_max=1.0,\n",
        "                                        clip=True),\n",
        "    ]\n",
        ")\n",
        "val_ds = CacheDataset(data=val_datalist, transform=val_transforms)\n",
        "val_loader = DataLoader(val_ds, batch_size=16, shuffle=False, num_workers=2, persistent_workers=True)"
      ]
    },
    {
      "cell_type": "markdown",
      "id": "6b24970a-6c8f-4177-a02a-053447fb9b70",
      "metadata": {
        "id": "6b24970a-6c8f-4177-a02a-053447fb9b70"
      },
      "source": [
        "### Visualisation of the training images\n",
        "\n",
        "Let see what the training images look like:"
      ]
    },
    {
      "cell_type": "code",
      "execution_count": null,
      "id": "7684b200-bf11-4d8d-93c7-aa56b4350167",
      "metadata": {
        "colab": {
          "base_uri": "https://localhost:8080/",
          "height": 364
        },
        "id": "7684b200-bf11-4d8d-93c7-aa56b4350167",
        "outputId": "848111f6-b507-47cd-a712-1d2fce065d71"
      },
      "outputs": [
        {
          "output_type": "stream",
          "name": "stderr",
          "text": [
            "os.fork() was called. os.fork() is incompatible with multithreaded code, and JAX is multithreaded, so this will likely lead to a deadlock.\n"
          ]
        },
        {
          "output_type": "stream",
          "name": "stdout",
          "text": [
            "batch shape: torch.Size([128, 1, 64, 64])\n"
          ]
        },
        {
          "output_type": "display_data",
          "data": {
            "text/plain": [
              "<Figure size 1200x600 with 1 Axes>"
            ],
            "image/png": "[encoded data removed]"
          },
          "metadata": {}
        }
      ],
      "source": [
        "check_data = first(train_loader)\n",
        "print(f\"batch shape: {check_data['image'].shape}\")\n",
        "image_visualisation = torch.cat(\n",
        "    [check_data[\"image\"][0, 0],\n",
        "     check_data[\"image\"][1, 0],\n",
        "     check_data[\"image\"][2, 0],\n",
        "     check_data[\"image\"][3, 0]], dim=1\n",
        ")\n",
        "plt.figure(\"training images\", (12, 6))\n",
        "plt.imshow(image_visualisation, vmin=0, vmax=1, cmap=\"gray\")\n",
        "plt.axis(\"off\")\n",
        "plt.tight_layout()\n",
        "plt.show()"
      ]
    },
    {
      "cell_type": "markdown",
      "id": "20eb75e2-78e6-4117-afbc-2d670524e21b",
      "metadata": {
        "id": "20eb75e2-78e6-4117-afbc-2d670524e21b"
      },
      "source": [
        "## Define network, scheduler, optimizer, and inferer\n",
        "\n",
        "At this step, we instantiate the MONAI components to create a *DDPM*, the *UNET*, the *noise scheduler*, and the *inferer* used for training and sampling.\n",
        "\n",
        "We are using the original DDPM scheduler containing `1000` timesteps in its Markov chain, and a 2D UNET with attention mechanisms in the 2nd and 3rd levels, each with 1 attention head.\n"
      ]
    },
    {
      "cell_type": "code",
      "execution_count": null,
      "id": "2deffe22-da47-44d1-bd18-beb23a8b6dea",
      "metadata": {
        "id": "2deffe22-da47-44d1-bd18-beb23a8b6dea"
      },
      "outputs": [],
      "source": [
        "device = torch.device(\"cuda\")\n",
        "\n",
        "model = DiffusionModelUNet(\n",
        "    spatial_dims=2,\n",
        "    in_channels=1,\n",
        "    out_channels=1,\n",
        "    num_channels=(128, 256, 256),\n",
        "    attention_levels=(False, True, True),\n",
        "    num_res_blocks=1,\n",
        "    num_head_channels=256,\n",
        ")\n",
        "model.to(device)\n",
        "\n",
        "scheduler = DDPMScheduler(\n",
        "    num_train_timesteps=1000,\n",
        "    schedule=\"linear_beta\",\n",
        "    beta_start=0.0005,\n",
        "    beta_end=0.0195)\n",
        "\n",
        "optimizer = torch.optim.Adam(params=model.parameters(), lr=2.5e-5)\n",
        "\n",
        "inferer = DiffusionInferer(scheduler)"
      ]
    },
    {
      "cell_type": "markdown",
      "id": "cca62fc2-a8ac-4ca3-828e-b02089a09ff0",
      "metadata": {
        "id": "cca62fc2-a8ac-4ca3-828e-b02089a09ff0"
      },
      "source": [
        "## Model training\n",
        "\n",
        "Here, we are training our model for 75 epochs (training time: ~50 minutes).\n",
        "\n",
        "For tutorial, if you would like to skip the training and use a pre-trained model instead, set use_pretrained=True. This model was pretrained using the model in `pretrained/DDPM.pt`."
      ]
    },
    {
      "cell_type": "code",
      "execution_count": null,
      "id": "60971d87-bdaa-4418-bd19-ff0e143ac87e",
      "metadata": {
        "colab": {
          "base_uri": "https://localhost:8080/",
          "height": 211
        },
        "id": "60971d87-bdaa-4418-bd19-ff0e143ac87e",
        "outputId": "d5455b9f-92ba-45a4-ddbc-03569d59208b"
      },
      "outputs": [
        {
          "output_type": "error",
          "ename": "NameError",
          "evalue": "name 'GradScaler' is not defined",
          "traceback": [
            "\u001b[0;31m---------------------------------------------------------------------------\u001b[0m",
            "\u001b[0;31mNameError\u001b[0m                                 Traceback (most recent call last)",
            "\u001b[0;32m<ipython-input-2-69042da9394a>\u001b[0m in \u001b[0;36m<cell line: 3>\u001b[0;34m()\u001b[0m\n\u001b[1;32m     16\u001b[0m     \u001b[0mval_epoch_loss_list\u001b[0m \u001b[0;34m=\u001b[0m \u001b[0;34m[\u001b[0m\u001b[0;34m]\u001b[0m\u001b[0;34m\u001b[0m\u001b[0;34m\u001b[0m\u001b[0m\n\u001b[1;32m     17\u001b[0m \u001b[0;34m\u001b[0m\u001b[0m\n\u001b[0;32m---> 18\u001b[0;31m     \u001b[0mscaler\u001b[0m \u001b[0;34m=\u001b[0m \u001b[0mGradScaler\u001b[0m\u001b[0;34m(\u001b[0m\u001b[0;34m)\u001b[0m\u001b[0;34m\u001b[0m\u001b[0;34m\u001b[0m\u001b[0m\n\u001b[0m\u001b[1;32m     19\u001b[0m     \u001b[0mtotal_start\u001b[0m \u001b[0;34m=\u001b[0m \u001b[0mtime\u001b[0m\u001b[0;34m.\u001b[0m\u001b[0mtime\u001b[0m\u001b[0;34m(\u001b[0m\u001b[0;34m)\u001b[0m\u001b[0;34m\u001b[0m\u001b[0;34m\u001b[0m\u001b[0m\n\u001b[1;32m     20\u001b[0m     \u001b[0;32mfor\u001b[0m \u001b[0mepoch\u001b[0m \u001b[0;32min\u001b[0m \u001b[0mrange\u001b[0m\u001b[0;34m(\u001b[0m\u001b[0mn_epochs\u001b[0m\u001b[0;34m)\u001b[0m\u001b[0;34m:\u001b[0m\u001b[0;34m\u001b[0m\u001b[0;34m\u001b[0m\u001b[0m\n",
            "\u001b[0;31mNameError\u001b[0m: name 'GradScaler' is not defined"
          ]
        }
      ],
      "source": [
        "use_pretrained = False\n",
        "\n",
        "if use_pretrained:\n",
        "    os.makedirs('./pretrained/', exist_ok=True)\n",
        "    import urllib.request\n",
        "    url = 'https://raw.githubusercontent.com/vios-s/ISBI-2024-DiMEDIA-MONAI-Tutorial/main/pretrained/DDPM.pt'\n",
        "    print (\"Download start!\")\n",
        "    filename, headers = urllib.request.urlretrieve(url, filename=\"./pretrained/DDPM.pt\")\n",
        "    print(\"Download Complete.\")\n",
        "    model.load_state_dict(torch.load('pretrained/DDPM.pt'))\n",
        "    #model = torch.hub.load(\"marksgraham/pretrained_generative_models:v0.2\", model=\"ddpm_2d\", verbose=True).to(device)\n",
        "else:\n",
        "    n_epochs = 75\n",
        "    val_interval = 5\n",
        "    epoch_loss_list = []\n",
        "    val_epoch_loss_list = []\n",
        "\n",
        "    scaler = GradScaler()\n",
        "    total_start = time.time()\n",
        "    for epoch in range(n_epochs):\n",
        "        model.train()\n",
        "        epoch_loss = 0\n",
        "        progress_bar = tqdm(enumerate(train_loader), total=len(train_loader), ncols=70)\n",
        "        progress_bar.set_description(f\"Epoch {epoch}\")\n",
        "        for step, batch in progress_bar:\n",
        "            images = batch[\"image\"].to(device)\n",
        "            optimizer.zero_grad(set_to_none=True)\n",
        "\n",
        "            with autocast(enabled=True):\n",
        "                # Generate random noise\n",
        "                noise = torch.randn_like(images).to(device)\n",
        "\n",
        "                # Create timesteps\n",
        "                timesteps = torch.randint(\n",
        "                    0,\n",
        "                    inferer.scheduler.num_train_timesteps,\n",
        "                    (images.shape[0],),\n",
        "                    device=images.device\n",
        "                ).long()\n",
        "\n",
        "                # Get model prediction\n",
        "                noise_pred = inferer(\n",
        "                    inputs=images,\n",
        "                    diffusion_model=model,\n",
        "                    noise=noise,\n",
        "                    timesteps=timesteps)\n",
        "\n",
        "                loss = F.mse_loss(noise_pred.float(), noise.float())\n",
        "\n",
        "            scaler.scale(loss).backward()\n",
        "            scaler.step(optimizer)\n",
        "            scaler.update()\n",
        "\n",
        "            epoch_loss += loss.item()\n",
        "\n",
        "            progress_bar.set_postfix({\"loss\": epoch_loss / (step + 1)})\n",
        "        epoch_loss_list.append(epoch_loss / (step + 1))\n",
        "\n",
        "        if (epoch + 1) % val_interval == 0:\n",
        "            model.eval()\n",
        "            val_epoch_loss = 0\n",
        "            for step, batch in enumerate(val_loader):\n",
        "                images = batch[\"image\"].to(device)\n",
        "                with torch.no_grad():\n",
        "                    with autocast(enabled=True):\n",
        "                        noise = torch.randn_like(images).to(device)\n",
        "                        timesteps = torch.randint(\n",
        "                            0, inferer.scheduler.num_train_timesteps, (images.shape[0],), device=images.device\n",
        "                        ).long()\n",
        "                        noise_pred = inferer(inputs=images, diffusion_model=model, noise=noise, timesteps=timesteps)\n",
        "                        val_loss = F.mse_loss(noise_pred.float(), noise.float())\n",
        "\n",
        "                val_epoch_loss += val_loss.item()\n",
        "                progress_bar.set_postfix({\"val_loss\": val_epoch_loss / (step + 1)})\n",
        "            val_epoch_loss_list.append(val_epoch_loss / (step + 1))\n",
        "\n",
        "            # Sampling image during training\n",
        "            noise = torch.randn((1, 1, 64, 64))\n",
        "            noise = noise.to(device)\n",
        "            scheduler.set_timesteps(num_inference_steps=1000)\n",
        "            with autocast(enabled=True):\n",
        "                image = inferer.sample(input_noise=noise, diffusion_model=model, scheduler=scheduler)\n",
        "\n",
        "            plt.figure(figsize=(2, 2))\n",
        "            plt.imshow(image[0, 0].cpu(), vmin=0, vmax=1, cmap=\"gray\")\n",
        "            plt.tight_layout()\n",
        "            plt.axis(\"off\")\n",
        "            plt.show()\n",
        "\n",
        "    total_time = time.time() - total_start\n",
        "    print(f\"train completed, total time: {total_time}.\")\n",
        "    torch.save(model.state_dict(), 'pretrained/DDPM.pt')"
      ]
    },
    {
      "cell_type": "markdown",
      "id": "84d55cb6-4957-487a-bc82-8e6e1d2e263e",
      "metadata": {
        "id": "84d55cb6-4957-487a-bc82-8e6e1d2e263e"
      },
      "source": [
        "## Plot the Learning Curve"
      ]
    },
    {
      "cell_type": "code",
      "execution_count": null,
      "id": "3bede253-aa8b-4014-8924-cc7de9910ed7",
      "metadata": {
        "colab": {
          "base_uri": "https://localhost:8080/",
          "height": 211
        },
        "id": "3bede253-aa8b-4014-8924-cc7de9910ed7",
        "outputId": "91b30606-437d-47d3-9f9f-ba0ec45567b5"
      },
      "outputs": [
        {
          "output_type": "error",
          "ename": "NameError",
          "evalue": "name 'use_pretrained' is not defined",
          "traceback": [
            "\u001b[0;31m---------------------------------------------------------------------------\u001b[0m",
            "\u001b[0;31mNameError\u001b[0m                                 Traceback (most recent call last)",
            "\u001b[0;32m<ipython-input-1-874871ba076a>\u001b[0m in \u001b[0;36m<cell line: 1>\u001b[0;34m()\u001b[0m\n\u001b[0;32m----> 1\u001b[0;31m \u001b[0;32mif\u001b[0m \u001b[0;32mnot\u001b[0m \u001b[0muse_pretrained\u001b[0m\u001b[0;34m:\u001b[0m\u001b[0;34m\u001b[0m\u001b[0;34m\u001b[0m\u001b[0m\n\u001b[0m\u001b[1;32m      2\u001b[0m     \u001b[0mplt\u001b[0m\u001b[0;34m.\u001b[0m\u001b[0mstyle\u001b[0m\u001b[0;34m.\u001b[0m\u001b[0muse\u001b[0m\u001b[0;34m(\u001b[0m\u001b[0;34m\"seaborn-v0_8-white\"\u001b[0m\u001b[0;34m)\u001b[0m\u001b[0;34m\u001b[0m\u001b[0;34m\u001b[0m\u001b[0m\n\u001b[1;32m      3\u001b[0m     \u001b[0mplt\u001b[0m\u001b[0;34m.\u001b[0m\u001b[0mtitle\u001b[0m\u001b[0;34m(\u001b[0m\u001b[0;34m\"Learning Curves\"\u001b[0m\u001b[0;34m,\u001b[0m \u001b[0mfontsize\u001b[0m\u001b[0;34m=\u001b[0m\u001b[0;36m20\u001b[0m\u001b[0;34m)\u001b[0m\u001b[0;34m\u001b[0m\u001b[0;34m\u001b[0m\u001b[0m\n\u001b[1;32m      4\u001b[0m     \u001b[0mplt\u001b[0m\u001b[0;34m.\u001b[0m\u001b[0mplot\u001b[0m\u001b[0;34m(\u001b[0m\u001b[0mnp\u001b[0m\u001b[0;34m.\u001b[0m\u001b[0mlinspace\u001b[0m\u001b[0;34m(\u001b[0m\u001b[0;36m1\u001b[0m\u001b[0;34m,\u001b[0m \u001b[0mn_epochs\u001b[0m\u001b[0;34m,\u001b[0m \u001b[0mn_epochs\u001b[0m\u001b[0;34m)\u001b[0m\u001b[0;34m,\u001b[0m \u001b[0mepoch_loss_list\u001b[0m\u001b[0;34m,\u001b[0m \u001b[0mcolor\u001b[0m\u001b[0;34m=\u001b[0m\u001b[0;34m\"C0\"\u001b[0m\u001b[0;34m,\u001b[0m \u001b[0mlinewidth\u001b[0m\u001b[0;34m=\u001b[0m\u001b[0;36m2.0\u001b[0m\u001b[0;34m,\u001b[0m \u001b[0mlabel\u001b[0m\u001b[0;34m=\u001b[0m\u001b[0;34m\"Train\"\u001b[0m\u001b[0;34m)\u001b[0m\u001b[0;34m\u001b[0m\u001b[0;34m\u001b[0m\u001b[0m\n\u001b[1;32m      5\u001b[0m     plt.plot(\n",
            "\u001b[0;31mNameError\u001b[0m: name 'use_pretrained' is not defined"
          ]
        }
      ],
      "source": [
        "if not use_pretrained:\n",
        "    plt.style.use(\"seaborn-v0_8-white\")\n",
        "    plt.title(\"Learning Curves\", fontsize=20)\n",
        "    plt.plot(np.linspace(1, n_epochs, n_epochs), epoch_loss_list, color=\"C0\", linewidth=2.0, label=\"Train\")\n",
        "    plt.plot(\n",
        "        np.linspace(val_interval, n_epochs, int(n_epochs / val_interval)),\n",
        "        val_epoch_loss_list,\n",
        "        color=\"C1\",\n",
        "        linewidth=2.0,\n",
        "        label=\"Validation\",\n",
        "    )\n",
        "    plt.yticks(fontsize=12)\n",
        "    plt.xticks(fontsize=12)\n",
        "    plt.xlabel(\"Epochs\", fontsize=16)\n",
        "    plt.ylabel(\"Loss\", fontsize=16)\n",
        "    plt.legend(prop={\"size\": 14})\n",
        "    plt.show()"
      ]
    },
    {
      "cell_type": "markdown",
      "id": "f7ab26f0-d0c3-478b-bea1-b2632933cd6a",
      "metadata": {
        "id": "f7ab26f0-d0c3-478b-bea1-b2632933cd6a"
      },
      "source": [
        "## Plotting sampling process along DDPM's Markov chain"
      ]
    },
    {
      "cell_type": "code",
      "execution_count": null,
      "id": "fbd50c41-4f18-4e11-bd3f-3c374e1fb24b",
      "metadata": {
        "id": "fbd50c41-4f18-4e11-bd3f-3c374e1fb24b"
      },
      "outputs": [],
      "source": [
        "model.eval()\n",
        "noise = torch.randn((1, 1, 64, 64))\n",
        "noise = noise.to(device)\n",
        "scheduler.set_timesteps(num_inference_steps=1000)\n",
        "with autocast(enabled=True):\n",
        "    image, intermediates = inferer.sample(\n",
        "        input_noise=noise, diffusion_model=model, scheduler=scheduler, save_intermediates=True, intermediate_steps=100\n",
        "    )\n",
        "\n",
        "chain = torch.cat(intermediates, dim=-1)\n",
        "\n",
        "plt.style.use(\"default\")\n",
        "plt.imshow(chain[0, 0].cpu(), vmin=0, vmax=1, cmap=\"gray\")\n",
        "plt.tight_layout()\n",
        "plt.axis(\"off\")\n",
        "plt.show()"
      ]
    }
  ],
  "metadata": {
    "kernelspec": {
      "display_name": "Python 3",
      "name": "python3"
    },
    "language_info": {
      "codemirror_mode": {
        "name": "ipython",
        "version": 3
      },
      "file_extension": ".py",
      "mimetype": "text/x-python",
      "name": "python",
      "nbconvert_exporter": "python",
      "pygments_lexer": "ipython3",
      "version": "3.10.13"
    },
    "colab": {
      "provenance": [],
      "gpuType": "T4",
      "include_colab_link": true
    },
    "accelerator": "GPU"
  },
  "nbformat": 4,
  "nbformat_minor": 5
}